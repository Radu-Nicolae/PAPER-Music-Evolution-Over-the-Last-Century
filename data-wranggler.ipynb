{
 "cells": [
  {
   "cell_type": "markdown",
   "id": "9de0aefd2b223f0d",
   "metadata": {},
   "source": "# Exploring music evolution over the last century"
  },
  {
   "cell_type": "markdown",
   "id": "e2d56bae03eaaefe",
   "metadata": {},
   "source": "## 0. Library imports"
  },
  {
   "metadata": {
    "ExecuteTime": {
     "end_time": "2025-01-21T08:05:03.240301Z",
     "start_time": "2025-01-21T08:05:02.433720Z"
    }
   },
   "cell_type": "code",
   "source": "!pip install -r requirements.txt",
   "id": "af6c0130acb9cb9d",
   "outputs": [
    {
     "name": "stdout",
     "output_type": "stream",
     "text": [
      "Requirement already satisfied: anyio==3.6.2 in /opt/homebrew/lib/python3.11/site-packages (from -r requirements.txt (line 1)) (3.6.2)\r\n",
      "Requirement already satisfied: appnope==0.1.3 in /opt/homebrew/lib/python3.11/site-packages (from -r requirements.txt (line 2)) (0.1.3)\r\n",
      "Requirement already satisfied: argon2-cffi==21.3.0 in /opt/homebrew/lib/python3.11/site-packages (from -r requirements.txt (line 3)) (21.3.0)\r\n",
      "Requirement already satisfied: argon2-cffi-bindings==21.2.0 in /opt/homebrew/lib/python3.11/site-packages (from -r requirements.txt (line 4)) (21.2.0)\r\n",
      "Requirement already satisfied: arrow==1.2.3 in /opt/homebrew/lib/python3.11/site-packages (from -r requirements.txt (line 5)) (1.2.3)\r\n",
      "Requirement already satisfied: asttokens==2.2.1 in /opt/homebrew/lib/python3.11/site-packages (from -r requirements.txt (line 6)) (2.2.1)\r\n",
      "Requirement already satisfied: async-lru==2.0.4 in /opt/homebrew/lib/python3.11/site-packages (from -r requirements.txt (line 7)) (2.0.4)\r\n",
      "Requirement already satisfied: attrs==23.1.0 in /opt/homebrew/lib/python3.11/site-packages (from -r requirements.txt (line 8)) (23.1.0)\r\n",
      "Requirement already satisfied: babel==2.16.0 in /opt/homebrew/lib/python3.11/site-packages (from -r requirements.txt (line 9)) (2.16.0)\r\n",
      "Requirement already satisfied: backcall==0.2.0 in /opt/homebrew/lib/python3.11/site-packages (from -r requirements.txt (line 10)) (0.2.0)\r\n",
      "Requirement already satisfied: beautifulsoup4==4.12.2 in /opt/homebrew/lib/python3.11/site-packages (from -r requirements.txt (line 11)) (4.12.2)\r\n",
      "Requirement already satisfied: biopython==1.84 in /opt/homebrew/lib/python3.11/site-packages (from -r requirements.txt (line 12)) (1.84)\r\n",
      "Requirement already satisfied: bleach==6.0.0 in /opt/homebrew/lib/python3.11/site-packages (from -r requirements.txt (line 13)) (6.0.0)\r\n",
      "Requirement already satisfied: cffi==1.15.1 in /opt/homebrew/lib/python3.11/site-packages (from -r requirements.txt (line 14)) (1.15.1)\r\n",
      "Requirement already satisfied: charset-normalizer==3.3.2 in /opt/homebrew/lib/python3.11/site-packages (from -r requirements.txt (line 15)) (3.3.2)\r\n",
      "Requirement already satisfied: click==8.1.7 in /Users/raz/Library/Python/3.11/lib/python/site-packages (from -r requirements.txt (line 16)) (8.1.7)\r\n",
      "Requirement already satisfied: collab==1.0.198 in /opt/homebrew/lib/python3.11/site-packages (from -r requirements.txt (line 17)) (1.0.198)\r\n",
      "Requirement already satisfied: comm==0.1.3 in /opt/homebrew/lib/python3.11/site-packages (from -r requirements.txt (line 18)) (0.1.3)\r\n",
      "Requirement already satisfied: contourpy==1.0.7 in /opt/homebrew/lib/python3.11/site-packages (from -r requirements.txt (line 19)) (1.0.7)\r\n",
      "Requirement already satisfied: cycler==0.11.0 in /opt/homebrew/lib/python3.11/site-packages (from -r requirements.txt (line 20)) (0.11.0)\r\n",
      "Requirement already satisfied: debugpy==1.6.7 in /opt/homebrew/lib/python3.11/site-packages (from -r requirements.txt (line 21)) (1.6.7)\r\n",
      "Requirement already satisfied: decorator==4.4.2 in /opt/homebrew/lib/python3.11/site-packages (from -r requirements.txt (line 22)) (4.4.2)\r\n",
      "Requirement already satisfied: defusedxml==0.7.1 in /opt/homebrew/lib/python3.11/site-packages (from -r requirements.txt (line 23)) (0.7.1)\r\n",
      "Requirement already satisfied: EnergyData==0.0.2 in /opt/homebrew/lib/python3.11/site-packages (from -r requirements.txt (line 24)) (0.0.2)\r\n",
      "Requirement already satisfied: entsoe-py==0.6.16 in /opt/homebrew/lib/python3.11/site-packages (from -r requirements.txt (line 25)) (0.6.16)\r\n",
      "Requirement already satisfied: executing==1.2.0 in /opt/homebrew/lib/python3.11/site-packages (from -r requirements.txt (line 26)) (1.2.0)\r\n",
      "Requirement already satisfied: fastjsonschema==2.16.3 in /opt/homebrew/lib/python3.11/site-packages (from -r requirements.txt (line 27)) (2.16.3)\r\n",
      "Requirement already satisfied: filelock==3.14.0 in /opt/homebrew/lib/python3.11/site-packages (from -r requirements.txt (line 28)) (3.14.0)\r\n",
      "Requirement already satisfied: fonttools==4.39.3 in /opt/homebrew/lib/python3.11/site-packages (from -r requirements.txt (line 29)) (4.39.3)\r\n",
      "Requirement already satisfied: fqdn==1.5.1 in /opt/homebrew/lib/python3.11/site-packages (from -r requirements.txt (line 30)) (1.5.1)\r\n",
      "Requirement already satisfied: fsspec==2024.5.0 in /opt/homebrew/lib/python3.11/site-packages (from -r requirements.txt (line 31)) (2024.5.0)\r\n",
      "Requirement already satisfied: h11==0.14.0 in /opt/homebrew/lib/python3.11/site-packages (from -r requirements.txt (line 32)) (0.14.0)\r\n",
      "Requirement already satisfied: httpcore==1.0.6 in /opt/homebrew/lib/python3.11/site-packages (from -r requirements.txt (line 33)) (1.0.6)\r\n",
      "Requirement already satisfied: httpx==0.27.2 in /opt/homebrew/lib/python3.11/site-packages (from -r requirements.txt (line 34)) (0.27.2)\r\n",
      "Requirement already satisfied: huggingface-hub==0.23.2 in /opt/homebrew/lib/python3.11/site-packages (from -r requirements.txt (line 35)) (0.23.2)\r\n",
      "Requirement already satisfied: idna==3.4 in /opt/homebrew/lib/python3.11/site-packages (from -r requirements.txt (line 36)) (3.4)\r\n",
      "Requirement already satisfied: imageio==2.35.0 in /opt/homebrew/lib/python3.11/site-packages (from -r requirements.txt (line 37)) (2.35.0)\r\n",
      "Requirement already satisfied: imageio-ffmpeg==0.5.1 in /opt/homebrew/lib/python3.11/site-packages (from -r requirements.txt (line 38)) (0.5.1)\r\n",
      "Requirement already satisfied: ipykernel==6.22.0 in /opt/homebrew/lib/python3.11/site-packages (from -r requirements.txt (line 39)) (6.22.0)\r\n",
      "Requirement already satisfied: ipython==8.12.0 in /opt/homebrew/lib/python3.11/site-packages (from -r requirements.txt (line 40)) (8.12.0)\r\n",
      "Requirement already satisfied: ipython-genutils==0.2.0 in /opt/homebrew/lib/python3.11/site-packages (from -r requirements.txt (line 41)) (0.2.0)\r\n",
      "Requirement already satisfied: ipywidgets==8.1.5 in /opt/homebrew/lib/python3.11/site-packages (from -r requirements.txt (line 42)) (8.1.5)\r\n",
      "Requirement already satisfied: isoduration==20.11.0 in /opt/homebrew/lib/python3.11/site-packages (from -r requirements.txt (line 43)) (20.11.0)\r\n",
      "Requirement already satisfied: jedi==0.18.2 in /opt/homebrew/lib/python3.11/site-packages (from -r requirements.txt (line 44)) (0.18.2)\r\n",
      "Requirement already satisfied: Jinja2==3.1.2 in /opt/homebrew/lib/python3.11/site-packages (from -r requirements.txt (line 45)) (3.1.2)\r\n",
      "Requirement already satisfied: joblib==1.4.2 in /Users/raz/Library/Python/3.11/lib/python/site-packages (from -r requirements.txt (line 46)) (1.4.2)\r\n",
      "Requirement already satisfied: json5==0.9.25 in /opt/homebrew/lib/python3.11/site-packages (from -r requirements.txt (line 47)) (0.9.25)\r\n",
      "Requirement already satisfied: jsonpointer==2.3 in /opt/homebrew/lib/python3.11/site-packages (from -r requirements.txt (line 48)) (2.3)\r\n",
      "Requirement already satisfied: jsonschema==4.23.0 in /opt/homebrew/lib/python3.11/site-packages (from -r requirements.txt (line 49)) (4.23.0)\r\n",
      "Requirement already satisfied: jsonschema-specifications==2024.10.1 in /opt/homebrew/lib/python3.11/site-packages (from -r requirements.txt (line 50)) (2024.10.1)\r\n",
      "Requirement already satisfied: jupyter==1.0.0 in /opt/homebrew/lib/python3.11/site-packages (from -r requirements.txt (line 51)) (1.0.0)\r\n",
      "Requirement already satisfied: jupyter-console==6.6.3 in /opt/homebrew/lib/python3.11/site-packages (from -r requirements.txt (line 52)) (6.6.3)\r\n",
      "Requirement already satisfied: jupyter-events==0.6.3 in /opt/homebrew/lib/python3.11/site-packages (from -r requirements.txt (line 53)) (0.6.3)\r\n",
      "Requirement already satisfied: jupyter-lsp==2.2.5 in /opt/homebrew/lib/python3.11/site-packages (from -r requirements.txt (line 54)) (2.2.5)\r\n",
      "Requirement already satisfied: jupyter_client==8.2.0 in /opt/homebrew/lib/python3.11/site-packages (from -r requirements.txt (line 55)) (8.2.0)\r\n",
      "Requirement already satisfied: jupyter_core==5.3.0 in /opt/homebrew/lib/python3.11/site-packages (from -r requirements.txt (line 56)) (5.3.0)\r\n",
      "Requirement already satisfied: jupyter_server==2.5.0 in /opt/homebrew/lib/python3.11/site-packages (from -r requirements.txt (line 57)) (2.5.0)\r\n",
      "Requirement already satisfied: jupyter_server_terminals==0.4.4 in /opt/homebrew/lib/python3.11/site-packages (from -r requirements.txt (line 58)) (0.4.4)\r\n",
      "Requirement already satisfied: jupyterlab==4.2.5 in /opt/homebrew/lib/python3.11/site-packages (from -r requirements.txt (line 59)) (4.2.5)\r\n",
      "Requirement already satisfied: jupyterlab-pygments==0.2.2 in /opt/homebrew/lib/python3.11/site-packages (from -r requirements.txt (line 60)) (0.2.2)\r\n",
      "Requirement already satisfied: jupyterlab_server==2.27.3 in /opt/homebrew/lib/python3.11/site-packages (from -r requirements.txt (line 61)) (2.27.3)\r\n",
      "Requirement already satisfied: jupyterlab_widgets==3.0.13 in /opt/homebrew/lib/python3.11/site-packages (from -r requirements.txt (line 62)) (3.0.13)\r\n",
      "Requirement already satisfied: kiwisolver==1.4.4 in /opt/homebrew/lib/python3.11/site-packages (from -r requirements.txt (line 63)) (1.4.4)\r\n",
      "Requirement already satisfied: lda==3.0.2 in /Users/raz/Library/Python/3.11/lib/python/site-packages (from -r requirements.txt (line 64)) (3.0.2)\r\n",
      "Requirement already satisfied: ldap3==2.9.1 in /opt/homebrew/lib/python3.11/site-packages (from -r requirements.txt (line 65)) (2.9.1)\r\n",
      "Requirement already satisfied: lxml==5.3.0 in /opt/homebrew/lib/python3.11/site-packages (from -r requirements.txt (line 66)) (5.3.0)\r\n",
      "Requirement already satisfied: MarkupSafe==2.1.2 in /opt/homebrew/lib/python3.11/site-packages (from -r requirements.txt (line 67)) (2.1.2)\r\n",
      "Requirement already satisfied: matplotlib==3.8.4 in /opt/homebrew/lib/python3.11/site-packages (from -r requirements.txt (line 68)) (3.8.4)\r\n",
      "Requirement already satisfied: matplotlib-inline==0.1.6 in /opt/homebrew/lib/python3.11/site-packages (from -r requirements.txt (line 69)) (0.1.6)\r\n",
      "Requirement already satisfied: mistune==2.0.5 in /opt/homebrew/lib/python3.11/site-packages (from -r requirements.txt (line 70)) (2.0.5)\r\n",
      "Requirement already satisfied: moviepy==1.0.3 in /opt/homebrew/lib/python3.11/site-packages (from -r requirements.txt (line 71)) (1.0.3)\r\n",
      "Requirement already satisfied: nbclassic==0.5.5 in /opt/homebrew/lib/python3.11/site-packages (from -r requirements.txt (line 72)) (0.5.5)\r\n",
      "Requirement already satisfied: nbclient==0.7.4 in /opt/homebrew/lib/python3.11/site-packages (from -r requirements.txt (line 73)) (0.7.4)\r\n",
      "Requirement already satisfied: nbconvert==7.3.1 in /opt/homebrew/lib/python3.11/site-packages (from -r requirements.txt (line 74)) (7.3.1)\r\n",
      "Requirement already satisfied: nbformat==5.8.0 in /opt/homebrew/lib/python3.11/site-packages (from -r requirements.txt (line 75)) (5.8.0)\r\n",
      "Requirement already satisfied: nest-asyncio==1.5.6 in /opt/homebrew/lib/python3.11/site-packages (from -r requirements.txt (line 76)) (1.5.6)\r\n",
      "Requirement already satisfied: networkx==3.4.2 in /Users/raz/Library/Python/3.11/lib/python/site-packages (from -r requirements.txt (line 77)) (3.4.2)\r\n",
      "Requirement already satisfied: nltk==3.9.1 in /Users/raz/Library/Python/3.11/lib/python/site-packages (from -r requirements.txt (line 78)) (3.9.1)\r\n",
      "Requirement already satisfied: notebook==7.2.2 in /opt/homebrew/lib/python3.11/site-packages (from -r requirements.txt (line 79)) (7.2.2)\r\n",
      "Requirement already satisfied: notebook_shim==0.2.3 in /opt/homebrew/lib/python3.11/site-packages (from -r requirements.txt (line 80)) (0.2.3)\r\n",
      "Requirement already satisfied: numpy==1.24.3 in /opt/homebrew/lib/python3.11/site-packages (from -r requirements.txt (line 81)) (1.24.3)\r\n",
      "Requirement already satisfied: packaging==23.1 in /opt/homebrew/lib/python3.11/site-packages (from -r requirements.txt (line 82)) (23.1)\r\n",
      "Requirement already satisfied: pandas==2.2.2 in /opt/homebrew/lib/python3.11/site-packages (from -r requirements.txt (line 83)) (2.2.2)\r\n",
      "Requirement already satisfied: pandocfilters==1.5.0 in /opt/homebrew/lib/python3.11/site-packages (from -r requirements.txt (line 84)) (1.5.0)\r\n",
      "Requirement already satisfied: parso==0.8.3 in /opt/homebrew/lib/python3.11/site-packages (from -r requirements.txt (line 85)) (0.8.3)\r\n",
      "Requirement already satisfied: pexpect==4.8.0 in /opt/homebrew/lib/python3.11/site-packages (from -r requirements.txt (line 86)) (4.8.0)\r\n",
      "Requirement already satisfied: pickleshare==0.7.5 in /opt/homebrew/lib/python3.11/site-packages (from -r requirements.txt (line 87)) (0.7.5)\r\n",
      "Requirement already satisfied: Pillow==9.5.0 in /opt/homebrew/lib/python3.11/site-packages (from -r requirements.txt (line 88)) (9.5.0)\r\n",
      "Requirement already satisfied: platformdirs==3.4.0 in /opt/homebrew/lib/python3.11/site-packages (from -r requirements.txt (line 89)) (3.4.0)\r\n",
      "Requirement already satisfied: proglog==0.1.10 in /opt/homebrew/lib/python3.11/site-packages (from -r requirements.txt (line 90)) (0.1.10)\r\n",
      "Requirement already satisfied: prometheus-client==0.16.0 in /opt/homebrew/lib/python3.11/site-packages (from -r requirements.txt (line 91)) (0.16.0)\r\n",
      "Requirement already satisfied: prompt-toolkit==3.0.38 in /opt/homebrew/lib/python3.11/site-packages (from -r requirements.txt (line 92)) (3.0.38)\r\n",
      "Requirement already satisfied: psutil==5.9.5 in /opt/homebrew/lib/python3.11/site-packages (from -r requirements.txt (line 93)) (5.9.5)\r\n",
      "Requirement already satisfied: ptyprocess==0.7.0 in /opt/homebrew/lib/python3.11/site-packages (from -r requirements.txt (line 94)) (0.7.0)\r\n",
      "Requirement already satisfied: pure-eval==0.2.2 in /opt/homebrew/lib/python3.11/site-packages (from -r requirements.txt (line 95)) (0.2.2)\r\n",
      "Requirement already satisfied: pyarrow==16.1.0 in /opt/homebrew/lib/python3.11/site-packages (from -r requirements.txt (line 96)) (16.1.0)\r\n",
      "Requirement already satisfied: pyasn1==0.6.1 in /opt/homebrew/lib/python3.11/site-packages (from -r requirements.txt (line 97)) (0.6.1)\r\n",
      "Requirement already satisfied: pycparser==2.21 in /opt/homebrew/lib/python3.11/site-packages (from -r requirements.txt (line 98)) (2.21)\r\n",
      "Requirement already satisfied: Pygments==2.15.1 in /opt/homebrew/lib/python3.11/site-packages (from -r requirements.txt (line 99)) (2.15.1)\r\n",
      "Requirement already satisfied: pyparsing==3.0.9 in /opt/homebrew/lib/python3.11/site-packages (from -r requirements.txt (line 100)) (3.0.9)\r\n",
      "Requirement already satisfied: pyrsistent==0.19.3 in /opt/homebrew/lib/python3.11/site-packages (from -r requirements.txt (line 101)) (0.19.3)\r\n",
      "Requirement already satisfied: python-dateutil==2.8.2 in /opt/homebrew/lib/python3.11/site-packages (from -r requirements.txt (line 102)) (2.8.2)\r\n",
      "Requirement already satisfied: python-json-logger==2.0.7 in /opt/homebrew/lib/python3.11/site-packages (from -r requirements.txt (line 103)) (2.0.7)\r\n",
      "Requirement already satisfied: pytube==15.0.0 in /opt/homebrew/lib/python3.11/site-packages (from -r requirements.txt (line 104)) (15.0.0)\r\n",
      "Requirement already satisfied: pytz==2023.3 in /opt/homebrew/lib/python3.11/site-packages (from -r requirements.txt (line 105)) (2023.3)\r\n",
      "Requirement already satisfied: PyYAML==6.0 in /opt/homebrew/lib/python3.11/site-packages (from -r requirements.txt (line 106)) (6.0)\r\n",
      "Requirement already satisfied: pyzmq==25.0.2 in /opt/homebrew/lib/python3.11/site-packages (from -r requirements.txt (line 107)) (25.0.2)\r\n",
      "Requirement already satisfied: qtconsole==5.4.2 in /opt/homebrew/lib/python3.11/site-packages (from -r requirements.txt (line 108)) (5.4.2)\r\n",
      "Requirement already satisfied: QtPy==2.3.1 in /opt/homebrew/lib/python3.11/site-packages (from -r requirements.txt (line 109)) (2.3.1)\r\n",
      "Requirement already satisfied: referencing==0.35.1 in /opt/homebrew/lib/python3.11/site-packages (from -r requirements.txt (line 110)) (0.35.1)\r\n",
      "Requirement already satisfied: regex==2024.11.6 in /Users/raz/Library/Python/3.11/lib/python/site-packages (from -r requirements.txt (line 111)) (2024.11.6)\r\n",
      "Requirement already satisfied: requests==2.32.2 in /opt/homebrew/lib/python3.11/site-packages (from -r requirements.txt (line 112)) (2.32.2)\r\n",
      "Requirement already satisfied: rfc3339-validator==0.1.4 in /opt/homebrew/lib/python3.11/site-packages (from -r requirements.txt (line 113)) (0.1.4)\r\n",
      "Requirement already satisfied: rfc3986-validator==0.1.1 in /opt/homebrew/lib/python3.11/site-packages (from -r requirements.txt (line 114)) (0.1.1)\r\n",
      "Requirement already satisfied: rpds-py==0.20.1 in /opt/homebrew/lib/python3.11/site-packages (from -r requirements.txt (line 115)) (0.20.1)\r\n",
      "Requirement already satisfied: scikit-learn==1.5.2 in /opt/homebrew/lib/python3.11/site-packages (from -r requirements.txt (line 116)) (1.5.2)\r\n",
      "Requirement already satisfied: scipy==1.14.1 in /opt/homebrew/lib/python3.11/site-packages (from -r requirements.txt (line 117)) (1.14.1)\r\n",
      "Requirement already satisfied: seaborn==0.13.2 in /opt/homebrew/lib/python3.11/site-packages (from -r requirements.txt (line 118)) (0.13.2)\r\n",
      "Requirement already satisfied: Send2Trash==1.8.0 in /opt/homebrew/lib/python3.11/site-packages (from -r requirements.txt (line 119)) (1.8.0)\r\n",
      "Requirement already satisfied: simplekml==1.3.6 in /opt/homebrew/lib/python3.11/site-packages (from -r requirements.txt (line 120)) (1.3.6)\r\n",
      "Requirement already satisfied: six==1.16.0 in /opt/homebrew/lib/python3.11/site-packages (from -r requirements.txt (line 121)) (1.16.0)\r\n",
      "Requirement already satisfied: sniffio==1.3.0 in /opt/homebrew/lib/python3.11/site-packages (from -r requirements.txt (line 122)) (1.3.0)\r\n",
      "Requirement already satisfied: soupsieve==2.4.1 in /opt/homebrew/lib/python3.11/site-packages (from -r requirements.txt (line 123)) (2.4.1)\r\n",
      "Requirement already satisfied: stack-data==0.6.2 in /opt/homebrew/lib/python3.11/site-packages (from -r requirements.txt (line 124)) (0.6.2)\r\n",
      "Requirement already satisfied: tabulate==0.9.0 in /opt/homebrew/lib/python3.11/site-packages (from -r requirements.txt (line 125)) (0.9.0)\r\n",
      "Requirement already satisfied: terminado==0.17.1 in /opt/homebrew/lib/python3.11/site-packages (from -r requirements.txt (line 126)) (0.17.1)\r\n",
      "Requirement already satisfied: threadpoolctl==3.5.0 in /opt/homebrew/lib/python3.11/site-packages (from -r requirements.txt (line 127)) (3.5.0)\r\n",
      "Requirement already satisfied: tinycss2==1.2.1 in /opt/homebrew/lib/python3.11/site-packages (from -r requirements.txt (line 128)) (1.2.1)\r\n",
      "Requirement already satisfied: tornado==6.3.1 in /opt/homebrew/lib/python3.11/site-packages (from -r requirements.txt (line 129)) (6.3.1)\r\n",
      "Requirement already satisfied: tqdm==4.66.4 in /opt/homebrew/lib/python3.11/site-packages (from -r requirements.txt (line 130)) (4.66.4)\r\n",
      "Requirement already satisfied: traitlets==5.9.0 in /opt/homebrew/lib/python3.11/site-packages (from -r requirements.txt (line 131)) (5.9.0)\r\n",
      "Requirement already satisfied: typing_extensions==4.12.0 in /opt/homebrew/lib/python3.11/site-packages (from -r requirements.txt (line 132)) (4.12.0)\r\n",
      "Requirement already satisfied: tzdata==2023.3 in /opt/homebrew/lib/python3.11/site-packages (from -r requirements.txt (line 133)) (2023.3)\r\n",
      "Requirement already satisfied: uri-template==1.2.0 in /opt/homebrew/lib/python3.11/site-packages (from -r requirements.txt (line 134)) (1.2.0)\r\n",
      "Requirement already satisfied: urllib3==2.2.1 in /opt/homebrew/lib/python3.11/site-packages (from -r requirements.txt (line 135)) (2.2.1)\r\n",
      "Requirement already satisfied: wcwidth==0.2.6 in /opt/homebrew/lib/python3.11/site-packages (from -r requirements.txt (line 136)) (0.2.6)\r\n",
      "Requirement already satisfied: webcolors==24.8.0 in /opt/homebrew/lib/python3.11/site-packages (from -r requirements.txt (line 137)) (24.8.0)\r\n",
      "Requirement already satisfied: webencodings==0.5.1 in /opt/homebrew/lib/python3.11/site-packages (from -r requirements.txt (line 138)) (0.5.1)\r\n",
      "Requirement already satisfied: websocket-client==1.5.1 in /opt/homebrew/lib/python3.11/site-packages (from -r requirements.txt (line 139)) (1.5.1)\r\n",
      "Requirement already satisfied: widgetsnbextension==4.0.13 in /opt/homebrew/lib/python3.11/site-packages (from -r requirements.txt (line 140)) (4.0.13)\r\n",
      "Requirement already satisfied: certifi in /opt/homebrew/lib/python3.11/site-packages (from httpcore==1.0.6->-r requirements.txt (line 33)) (2024.12.14)\r\n",
      "Requirement already satisfied: setuptools in /opt/homebrew/lib/python3.11/site-packages (from imageio-ffmpeg==0.5.1->-r requirements.txt (line 38)) (74.1.2)\r\n"
     ]
    }
   ],
   "execution_count": 1
  },
  {
   "cell_type": "code",
   "id": "3acaf02b5fd29500",
   "metadata": {
    "ExecuteTime": {
     "end_time": "2025-01-21T08:05:03.707085Z",
     "start_time": "2025-01-21T08:05:03.244555Z"
    }
   },
   "source": [
    "import pandas as pd\n",
    "import numpy as np\n",
    "import matplotlib.pyplot as plt"
   ],
   "outputs": [],
   "execution_count": 2
  },
  {
   "cell_type": "markdown",
   "id": "aa54702b9d5e451c",
   "metadata": {},
   "source": "## 1. Data imports"
  },
  {
   "cell_type": "code",
   "id": "a545412373ef24fb",
   "metadata": {
    "ExecuteTime": {
     "end_time": "2025-01-21T08:05:03.780565Z",
     "start_time": "2025-01-21T08:05:03.770796Z"
    }
   },
   "source": [
    "data = pd.read_csv('data/data_by_year.csv')\n",
    "data"
   ],
   "outputs": [
    {
     "data": {
      "text/plain": [
       "    mode  year  acousticness  danceability    duration_ms    energy  \\\n",
       "0      1  1921      0.886896      0.418597  260537.166667  0.231815   \n",
       "1      1  1922      0.938592      0.482042  165469.746479  0.237815   \n",
       "2      1  1923      0.957247      0.577341  177942.362162  0.262406   \n",
       "3      1  1924      0.940200      0.549894  191046.707627  0.344347   \n",
       "4      1  1925      0.962607      0.573863  184986.924460  0.278594   \n",
       "..   ...   ...           ...           ...            ...       ...   \n",
       "95     1  2016      0.284171      0.600202  221396.510295  0.592855   \n",
       "96     1  2017      0.286099      0.612217  211115.696787  0.590421   \n",
       "97     1  2018      0.267633      0.663500  206001.007133  0.602435   \n",
       "98     1  2019      0.278299      0.644814  201024.788096  0.593224   \n",
       "99     1  2020      0.219931      0.692904  193728.397537  0.631232   \n",
       "\n",
       "    instrumentalness  liveness   loudness  speechiness       tempo   valence  \\\n",
       "0           0.344878  0.205710 -17.048667     0.073662  101.531493  0.379327   \n",
       "1           0.434195  0.240720 -19.275282     0.116655  100.884521  0.535549   \n",
       "2           0.371733  0.227462 -14.129211     0.093949  114.010730  0.625492   \n",
       "3           0.581701  0.235219 -14.231343     0.092089  120.689572  0.663725   \n",
       "4           0.418297  0.237668 -14.146414     0.111918  115.521921  0.621929   \n",
       "..               ...       ...        ...          ...         ...       ...   \n",
       "95          0.093984  0.181170  -8.061056     0.104313  118.652630  0.431532   \n",
       "96          0.097091  0.191713  -8.312630     0.110536  117.202740  0.416476   \n",
       "97          0.054217  0.176326  -7.168785     0.127176  121.922308  0.447921   \n",
       "98          0.077640  0.172616  -7.722192     0.121043  120.235644  0.458818   \n",
       "99          0.016376  0.178535  -6.595067     0.141384  124.283129  0.501048   \n",
       "\n",
       "    popularity  key  \n",
       "0     0.653333    2  \n",
       "1     0.140845   10  \n",
       "2     5.389189    0  \n",
       "3     0.661017   10  \n",
       "4     2.604317    5  \n",
       "..         ...  ...  \n",
       "95   59.647190    0  \n",
       "96   63.263554    1  \n",
       "97   63.296243    1  \n",
       "98   65.256542    1  \n",
       "99   64.301970    1  \n",
       "\n",
       "[100 rows x 14 columns]"
      ],
      "text/html": [
       "<div>\n",
       "<style scoped>\n",
       "    .dataframe tbody tr th:only-of-type {\n",
       "        vertical-align: middle;\n",
       "    }\n",
       "\n",
       "    .dataframe tbody tr th {\n",
       "        vertical-align: top;\n",
       "    }\n",
       "\n",
       "    .dataframe thead th {\n",
       "        text-align: right;\n",
       "    }\n",
       "</style>\n",
       "<table border=\"1\" class=\"dataframe\">\n",
       "  <thead>\n",
       "    <tr style=\"text-align: right;\">\n",
       "      <th></th>\n",
       "      <th>mode</th>\n",
       "      <th>year</th>\n",
       "      <th>acousticness</th>\n",
       "      <th>danceability</th>\n",
       "      <th>duration_ms</th>\n",
       "      <th>energy</th>\n",
       "      <th>instrumentalness</th>\n",
       "      <th>liveness</th>\n",
       "      <th>loudness</th>\n",
       "      <th>speechiness</th>\n",
       "      <th>tempo</th>\n",
       "      <th>valence</th>\n",
       "      <th>popularity</th>\n",
       "      <th>key</th>\n",
       "    </tr>\n",
       "  </thead>\n",
       "  <tbody>\n",
       "    <tr>\n",
       "      <th>0</th>\n",
       "      <td>1</td>\n",
       "      <td>1921</td>\n",
       "      <td>0.886896</td>\n",
       "      <td>0.418597</td>\n",
       "      <td>260537.166667</td>\n",
       "      <td>0.231815</td>\n",
       "      <td>0.344878</td>\n",
       "      <td>0.205710</td>\n",
       "      <td>-17.048667</td>\n",
       "      <td>0.073662</td>\n",
       "      <td>101.531493</td>\n",
       "      <td>0.379327</td>\n",
       "      <td>0.653333</td>\n",
       "      <td>2</td>\n",
       "    </tr>\n",
       "    <tr>\n",
       "      <th>1</th>\n",
       "      <td>1</td>\n",
       "      <td>1922</td>\n",
       "      <td>0.938592</td>\n",
       "      <td>0.482042</td>\n",
       "      <td>165469.746479</td>\n",
       "      <td>0.237815</td>\n",
       "      <td>0.434195</td>\n",
       "      <td>0.240720</td>\n",
       "      <td>-19.275282</td>\n",
       "      <td>0.116655</td>\n",
       "      <td>100.884521</td>\n",
       "      <td>0.535549</td>\n",
       "      <td>0.140845</td>\n",
       "      <td>10</td>\n",
       "    </tr>\n",
       "    <tr>\n",
       "      <th>2</th>\n",
       "      <td>1</td>\n",
       "      <td>1923</td>\n",
       "      <td>0.957247</td>\n",
       "      <td>0.577341</td>\n",
       "      <td>177942.362162</td>\n",
       "      <td>0.262406</td>\n",
       "      <td>0.371733</td>\n",
       "      <td>0.227462</td>\n",
       "      <td>-14.129211</td>\n",
       "      <td>0.093949</td>\n",
       "      <td>114.010730</td>\n",
       "      <td>0.625492</td>\n",
       "      <td>5.389189</td>\n",
       "      <td>0</td>\n",
       "    </tr>\n",
       "    <tr>\n",
       "      <th>3</th>\n",
       "      <td>1</td>\n",
       "      <td>1924</td>\n",
       "      <td>0.940200</td>\n",
       "      <td>0.549894</td>\n",
       "      <td>191046.707627</td>\n",
       "      <td>0.344347</td>\n",
       "      <td>0.581701</td>\n",
       "      <td>0.235219</td>\n",
       "      <td>-14.231343</td>\n",
       "      <td>0.092089</td>\n",
       "      <td>120.689572</td>\n",
       "      <td>0.663725</td>\n",
       "      <td>0.661017</td>\n",
       "      <td>10</td>\n",
       "    </tr>\n",
       "    <tr>\n",
       "      <th>4</th>\n",
       "      <td>1</td>\n",
       "      <td>1925</td>\n",
       "      <td>0.962607</td>\n",
       "      <td>0.573863</td>\n",
       "      <td>184986.924460</td>\n",
       "      <td>0.278594</td>\n",
       "      <td>0.418297</td>\n",
       "      <td>0.237668</td>\n",
       "      <td>-14.146414</td>\n",
       "      <td>0.111918</td>\n",
       "      <td>115.521921</td>\n",
       "      <td>0.621929</td>\n",
       "      <td>2.604317</td>\n",
       "      <td>5</td>\n",
       "    </tr>\n",
       "    <tr>\n",
       "      <th>...</th>\n",
       "      <td>...</td>\n",
       "      <td>...</td>\n",
       "      <td>...</td>\n",
       "      <td>...</td>\n",
       "      <td>...</td>\n",
       "      <td>...</td>\n",
       "      <td>...</td>\n",
       "      <td>...</td>\n",
       "      <td>...</td>\n",
       "      <td>...</td>\n",
       "      <td>...</td>\n",
       "      <td>...</td>\n",
       "      <td>...</td>\n",
       "      <td>...</td>\n",
       "    </tr>\n",
       "    <tr>\n",
       "      <th>95</th>\n",
       "      <td>1</td>\n",
       "      <td>2016</td>\n",
       "      <td>0.284171</td>\n",
       "      <td>0.600202</td>\n",
       "      <td>221396.510295</td>\n",
       "      <td>0.592855</td>\n",
       "      <td>0.093984</td>\n",
       "      <td>0.181170</td>\n",
       "      <td>-8.061056</td>\n",
       "      <td>0.104313</td>\n",
       "      <td>118.652630</td>\n",
       "      <td>0.431532</td>\n",
       "      <td>59.647190</td>\n",
       "      <td>0</td>\n",
       "    </tr>\n",
       "    <tr>\n",
       "      <th>96</th>\n",
       "      <td>1</td>\n",
       "      <td>2017</td>\n",
       "      <td>0.286099</td>\n",
       "      <td>0.612217</td>\n",
       "      <td>211115.696787</td>\n",
       "      <td>0.590421</td>\n",
       "      <td>0.097091</td>\n",
       "      <td>0.191713</td>\n",
       "      <td>-8.312630</td>\n",
       "      <td>0.110536</td>\n",
       "      <td>117.202740</td>\n",
       "      <td>0.416476</td>\n",
       "      <td>63.263554</td>\n",
       "      <td>1</td>\n",
       "    </tr>\n",
       "    <tr>\n",
       "      <th>97</th>\n",
       "      <td>1</td>\n",
       "      <td>2018</td>\n",
       "      <td>0.267633</td>\n",
       "      <td>0.663500</td>\n",
       "      <td>206001.007133</td>\n",
       "      <td>0.602435</td>\n",
       "      <td>0.054217</td>\n",
       "      <td>0.176326</td>\n",
       "      <td>-7.168785</td>\n",
       "      <td>0.127176</td>\n",
       "      <td>121.922308</td>\n",
       "      <td>0.447921</td>\n",
       "      <td>63.296243</td>\n",
       "      <td>1</td>\n",
       "    </tr>\n",
       "    <tr>\n",
       "      <th>98</th>\n",
       "      <td>1</td>\n",
       "      <td>2019</td>\n",
       "      <td>0.278299</td>\n",
       "      <td>0.644814</td>\n",
       "      <td>201024.788096</td>\n",
       "      <td>0.593224</td>\n",
       "      <td>0.077640</td>\n",
       "      <td>0.172616</td>\n",
       "      <td>-7.722192</td>\n",
       "      <td>0.121043</td>\n",
       "      <td>120.235644</td>\n",
       "      <td>0.458818</td>\n",
       "      <td>65.256542</td>\n",
       "      <td>1</td>\n",
       "    </tr>\n",
       "    <tr>\n",
       "      <th>99</th>\n",
       "      <td>1</td>\n",
       "      <td>2020</td>\n",
       "      <td>0.219931</td>\n",
       "      <td>0.692904</td>\n",
       "      <td>193728.397537</td>\n",
       "      <td>0.631232</td>\n",
       "      <td>0.016376</td>\n",
       "      <td>0.178535</td>\n",
       "      <td>-6.595067</td>\n",
       "      <td>0.141384</td>\n",
       "      <td>124.283129</td>\n",
       "      <td>0.501048</td>\n",
       "      <td>64.301970</td>\n",
       "      <td>1</td>\n",
       "    </tr>\n",
       "  </tbody>\n",
       "</table>\n",
       "<p>100 rows × 14 columns</p>\n",
       "</div>"
      ]
     },
     "execution_count": 3,
     "metadata": {},
     "output_type": "execute_result"
    }
   ],
   "execution_count": 3
  },
  {
   "cell_type": "markdown",
   "id": "3822dcaba4c2b3fd",
   "metadata": {},
   "source": "## 2. Data cleaning"
  },
  {
   "cell_type": "code",
   "id": "1860a927076098a3",
   "metadata": {
    "ExecuteTime": {
     "end_time": "2025-01-21T08:05:03.807323Z",
     "start_time": "2025-01-21T08:05:03.803017Z"
    }
   },
   "source": [
    "data = data[['year', 'energy', 'acousticness', 'duration_ms', 'danceability']] \n",
    "display(data)"
   ],
   "outputs": [
    {
     "data": {
      "text/plain": [
       "    year    energy  acousticness    duration_ms  danceability\n",
       "0   1921  0.231815      0.886896  260537.166667      0.418597\n",
       "1   1922  0.237815      0.938592  165469.746479      0.482042\n",
       "2   1923  0.262406      0.957247  177942.362162      0.577341\n",
       "3   1924  0.344347      0.940200  191046.707627      0.549894\n",
       "4   1925  0.278594      0.962607  184986.924460      0.573863\n",
       "..   ...       ...           ...            ...           ...\n",
       "95  2016  0.592855      0.284171  221396.510295      0.600202\n",
       "96  2017  0.590421      0.286099  211115.696787      0.612217\n",
       "97  2018  0.602435      0.267633  206001.007133      0.663500\n",
       "98  2019  0.593224      0.278299  201024.788096      0.644814\n",
       "99  2020  0.631232      0.219931  193728.397537      0.692904\n",
       "\n",
       "[100 rows x 5 columns]"
      ],
      "text/html": [
       "<div>\n",
       "<style scoped>\n",
       "    .dataframe tbody tr th:only-of-type {\n",
       "        vertical-align: middle;\n",
       "    }\n",
       "\n",
       "    .dataframe tbody tr th {\n",
       "        vertical-align: top;\n",
       "    }\n",
       "\n",
       "    .dataframe thead th {\n",
       "        text-align: right;\n",
       "    }\n",
       "</style>\n",
       "<table border=\"1\" class=\"dataframe\">\n",
       "  <thead>\n",
       "    <tr style=\"text-align: right;\">\n",
       "      <th></th>\n",
       "      <th>year</th>\n",
       "      <th>energy</th>\n",
       "      <th>acousticness</th>\n",
       "      <th>duration_ms</th>\n",
       "      <th>danceability</th>\n",
       "    </tr>\n",
       "  </thead>\n",
       "  <tbody>\n",
       "    <tr>\n",
       "      <th>0</th>\n",
       "      <td>1921</td>\n",
       "      <td>0.231815</td>\n",
       "      <td>0.886896</td>\n",
       "      <td>260537.166667</td>\n",
       "      <td>0.418597</td>\n",
       "    </tr>\n",
       "    <tr>\n",
       "      <th>1</th>\n",
       "      <td>1922</td>\n",
       "      <td>0.237815</td>\n",
       "      <td>0.938592</td>\n",
       "      <td>165469.746479</td>\n",
       "      <td>0.482042</td>\n",
       "    </tr>\n",
       "    <tr>\n",
       "      <th>2</th>\n",
       "      <td>1923</td>\n",
       "      <td>0.262406</td>\n",
       "      <td>0.957247</td>\n",
       "      <td>177942.362162</td>\n",
       "      <td>0.577341</td>\n",
       "    </tr>\n",
       "    <tr>\n",
       "      <th>3</th>\n",
       "      <td>1924</td>\n",
       "      <td>0.344347</td>\n",
       "      <td>0.940200</td>\n",
       "      <td>191046.707627</td>\n",
       "      <td>0.549894</td>\n",
       "    </tr>\n",
       "    <tr>\n",
       "      <th>4</th>\n",
       "      <td>1925</td>\n",
       "      <td>0.278594</td>\n",
       "      <td>0.962607</td>\n",
       "      <td>184986.924460</td>\n",
       "      <td>0.573863</td>\n",
       "    </tr>\n",
       "    <tr>\n",
       "      <th>...</th>\n",
       "      <td>...</td>\n",
       "      <td>...</td>\n",
       "      <td>...</td>\n",
       "      <td>...</td>\n",
       "      <td>...</td>\n",
       "    </tr>\n",
       "    <tr>\n",
       "      <th>95</th>\n",
       "      <td>2016</td>\n",
       "      <td>0.592855</td>\n",
       "      <td>0.284171</td>\n",
       "      <td>221396.510295</td>\n",
       "      <td>0.600202</td>\n",
       "    </tr>\n",
       "    <tr>\n",
       "      <th>96</th>\n",
       "      <td>2017</td>\n",
       "      <td>0.590421</td>\n",
       "      <td>0.286099</td>\n",
       "      <td>211115.696787</td>\n",
       "      <td>0.612217</td>\n",
       "    </tr>\n",
       "    <tr>\n",
       "      <th>97</th>\n",
       "      <td>2018</td>\n",
       "      <td>0.602435</td>\n",
       "      <td>0.267633</td>\n",
       "      <td>206001.007133</td>\n",
       "      <td>0.663500</td>\n",
       "    </tr>\n",
       "    <tr>\n",
       "      <th>98</th>\n",
       "      <td>2019</td>\n",
       "      <td>0.593224</td>\n",
       "      <td>0.278299</td>\n",
       "      <td>201024.788096</td>\n",
       "      <td>0.644814</td>\n",
       "    </tr>\n",
       "    <tr>\n",
       "      <th>99</th>\n",
       "      <td>2020</td>\n",
       "      <td>0.631232</td>\n",
       "      <td>0.219931</td>\n",
       "      <td>193728.397537</td>\n",
       "      <td>0.692904</td>\n",
       "    </tr>\n",
       "  </tbody>\n",
       "</table>\n",
       "<p>100 rows × 5 columns</p>\n",
       "</div>"
      ]
     },
     "metadata": {},
     "output_type": "display_data"
    }
   ],
   "execution_count": 4
  },
  {
   "cell_type": "code",
   "id": "5f213baf0dc4cebf",
   "metadata": {
    "ExecuteTime": {
     "end_time": "2025-01-21T08:05:03.844520Z",
     "start_time": "2025-01-21T08:05:03.841647Z"
    }
   },
   "source": [
    "# convert duration from ms (in the dataset) to seconds\n",
    "data['duration_ms'] = (data['duration_ms'] / 1000).round(3)"
   ],
   "outputs": [
    {
     "name": "stderr",
     "output_type": "stream",
     "text": [
      "/var/folders/0l/v3bdnpq11fbfhlwsbhdph8c80000gn/T/ipykernel_19186/3167834493.py:2: SettingWithCopyWarning: \n",
      "A value is trying to be set on a copy of a slice from a DataFrame.\n",
      "Try using .loc[row_indexer,col_indexer] = value instead\n",
      "\n",
      "See the caveats in the documentation: https://pandas.pydata.org/pandas-docs/stable/user_guide/indexing.html#returning-a-view-versus-a-copy\n",
      "  data['duration_ms'] = (data['duration_ms'] / 1000).round(3)\n"
     ]
    }
   ],
   "execution_count": 5
  },
  {
   "metadata": {
    "ExecuteTime": {
     "end_time": "2025-01-21T08:05:03.897656Z",
     "start_time": "2025-01-21T08:05:03.895432Z"
    }
   },
   "cell_type": "code",
   "source": [
    "# rename the column to reflect the change\n",
    "data = data.rename(columns={'duration_ms': 'duration_sec'})"
   ],
   "id": "b37dea4c4df065cd",
   "outputs": [],
   "execution_count": 6
  },
  {
   "metadata": {
    "ExecuteTime": {
     "end_time": "2025-01-21T08:05:03.937948Z",
     "start_time": "2025-01-21T08:05:03.936192Z"
    }
   },
   "cell_type": "code",
   "source": [
    "# round everythign to 3-decimal points for readability and usability purposes\n",
    "data = data.round(3)"
   ],
   "id": "5c7f7dcd25b9f98e",
   "outputs": [],
   "execution_count": 7
  },
  {
   "cell_type": "markdown",
   "id": "b0f6f6742e35091f",
   "metadata": {},
   "source": "## 3. Obtain energy-acousticness correlation"
  },
  {
   "cell_type": "code",
   "id": "8e02708092d28ef8",
   "metadata": {
    "ExecuteTime": {
     "end_time": "2025-01-21T08:05:03.948616Z",
     "start_time": "2025-01-21T08:05:03.943130Z"
    }
   },
   "source": [
    "data['energy_acousticness_ratio'] = data['acousticness'] / data['energy']\n",
    "data['energy_danceability_ratio'] = data['danceability'] / data['energy']\n",
    "data"
   ],
   "outputs": [
    {
     "data": {
      "text/plain": [
       "    year  energy  acousticness  duration_sec  danceability  \\\n",
       "0   1921   0.232         0.887       260.537         0.419   \n",
       "1   1922   0.238         0.939       165.470         0.482   \n",
       "2   1923   0.262         0.957       177.942         0.577   \n",
       "3   1924   0.344         0.940       191.047         0.550   \n",
       "4   1925   0.279         0.963       184.987         0.574   \n",
       "..   ...     ...           ...           ...           ...   \n",
       "95  2016   0.593         0.284       221.397         0.600   \n",
       "96  2017   0.590         0.286       211.116         0.612   \n",
       "97  2018   0.602         0.268       206.001         0.664   \n",
       "98  2019   0.593         0.278       201.025         0.645   \n",
       "99  2020   0.631         0.220       193.728         0.693   \n",
       "\n",
       "    energy_acousticness_ratio  energy_danceability_ratio  \n",
       "0                    3.823276                   1.806034  \n",
       "1                    3.945378                   2.025210  \n",
       "2                    3.652672                   2.202290  \n",
       "3                    2.732558                   1.598837  \n",
       "4                    3.451613                   2.057348  \n",
       "..                        ...                        ...  \n",
       "95                   0.478921                   1.011804  \n",
       "96                   0.484746                   1.037288  \n",
       "97                   0.445183                   1.102990  \n",
       "98                   0.468803                   1.087690  \n",
       "99                   0.348653                   1.098257  \n",
       "\n",
       "[100 rows x 7 columns]"
      ],
      "text/html": [
       "<div>\n",
       "<style scoped>\n",
       "    .dataframe tbody tr th:only-of-type {\n",
       "        vertical-align: middle;\n",
       "    }\n",
       "\n",
       "    .dataframe tbody tr th {\n",
       "        vertical-align: top;\n",
       "    }\n",
       "\n",
       "    .dataframe thead th {\n",
       "        text-align: right;\n",
       "    }\n",
       "</style>\n",
       "<table border=\"1\" class=\"dataframe\">\n",
       "  <thead>\n",
       "    <tr style=\"text-align: right;\">\n",
       "      <th></th>\n",
       "      <th>year</th>\n",
       "      <th>energy</th>\n",
       "      <th>acousticness</th>\n",
       "      <th>duration_sec</th>\n",
       "      <th>danceability</th>\n",
       "      <th>energy_acousticness_ratio</th>\n",
       "      <th>energy_danceability_ratio</th>\n",
       "    </tr>\n",
       "  </thead>\n",
       "  <tbody>\n",
       "    <tr>\n",
       "      <th>0</th>\n",
       "      <td>1921</td>\n",
       "      <td>0.232</td>\n",
       "      <td>0.887</td>\n",
       "      <td>260.537</td>\n",
       "      <td>0.419</td>\n",
       "      <td>3.823276</td>\n",
       "      <td>1.806034</td>\n",
       "    </tr>\n",
       "    <tr>\n",
       "      <th>1</th>\n",
       "      <td>1922</td>\n",
       "      <td>0.238</td>\n",
       "      <td>0.939</td>\n",
       "      <td>165.470</td>\n",
       "      <td>0.482</td>\n",
       "      <td>3.945378</td>\n",
       "      <td>2.025210</td>\n",
       "    </tr>\n",
       "    <tr>\n",
       "      <th>2</th>\n",
       "      <td>1923</td>\n",
       "      <td>0.262</td>\n",
       "      <td>0.957</td>\n",
       "      <td>177.942</td>\n",
       "      <td>0.577</td>\n",
       "      <td>3.652672</td>\n",
       "      <td>2.202290</td>\n",
       "    </tr>\n",
       "    <tr>\n",
       "      <th>3</th>\n",
       "      <td>1924</td>\n",
       "      <td>0.344</td>\n",
       "      <td>0.940</td>\n",
       "      <td>191.047</td>\n",
       "      <td>0.550</td>\n",
       "      <td>2.732558</td>\n",
       "      <td>1.598837</td>\n",
       "    </tr>\n",
       "    <tr>\n",
       "      <th>4</th>\n",
       "      <td>1925</td>\n",
       "      <td>0.279</td>\n",
       "      <td>0.963</td>\n",
       "      <td>184.987</td>\n",
       "      <td>0.574</td>\n",
       "      <td>3.451613</td>\n",
       "      <td>2.057348</td>\n",
       "    </tr>\n",
       "    <tr>\n",
       "      <th>...</th>\n",
       "      <td>...</td>\n",
       "      <td>...</td>\n",
       "      <td>...</td>\n",
       "      <td>...</td>\n",
       "      <td>...</td>\n",
       "      <td>...</td>\n",
       "      <td>...</td>\n",
       "    </tr>\n",
       "    <tr>\n",
       "      <th>95</th>\n",
       "      <td>2016</td>\n",
       "      <td>0.593</td>\n",
       "      <td>0.284</td>\n",
       "      <td>221.397</td>\n",
       "      <td>0.600</td>\n",
       "      <td>0.478921</td>\n",
       "      <td>1.011804</td>\n",
       "    </tr>\n",
       "    <tr>\n",
       "      <th>96</th>\n",
       "      <td>2017</td>\n",
       "      <td>0.590</td>\n",
       "      <td>0.286</td>\n",
       "      <td>211.116</td>\n",
       "      <td>0.612</td>\n",
       "      <td>0.484746</td>\n",
       "      <td>1.037288</td>\n",
       "    </tr>\n",
       "    <tr>\n",
       "      <th>97</th>\n",
       "      <td>2018</td>\n",
       "      <td>0.602</td>\n",
       "      <td>0.268</td>\n",
       "      <td>206.001</td>\n",
       "      <td>0.664</td>\n",
       "      <td>0.445183</td>\n",
       "      <td>1.102990</td>\n",
       "    </tr>\n",
       "    <tr>\n",
       "      <th>98</th>\n",
       "      <td>2019</td>\n",
       "      <td>0.593</td>\n",
       "      <td>0.278</td>\n",
       "      <td>201.025</td>\n",
       "      <td>0.645</td>\n",
       "      <td>0.468803</td>\n",
       "      <td>1.087690</td>\n",
       "    </tr>\n",
       "    <tr>\n",
       "      <th>99</th>\n",
       "      <td>2020</td>\n",
       "      <td>0.631</td>\n",
       "      <td>0.220</td>\n",
       "      <td>193.728</td>\n",
       "      <td>0.693</td>\n",
       "      <td>0.348653</td>\n",
       "      <td>1.098257</td>\n",
       "    </tr>\n",
       "  </tbody>\n",
       "</table>\n",
       "<p>100 rows × 7 columns</p>\n",
       "</div>"
      ]
     },
     "execution_count": 8,
     "metadata": {},
     "output_type": "execute_result"
    }
   ],
   "execution_count": 8
  },
  {
   "cell_type": "markdown",
   "id": "2be43fca9d5ab971",
   "metadata": {},
   "source": "## 4. Data exploration"
  },
  {
   "cell_type": "code",
   "id": "5984f106a8b648c9",
   "metadata": {
    "ExecuteTime": {
     "end_time": "2025-01-21T08:05:03.986311Z",
     "start_time": "2025-01-21T08:05:03.977575Z"
    }
   },
   "source": [
    "data.describe()"
   ],
   "outputs": [
    {
     "data": {
      "text/plain": [
       "              year      energy  acousticness  duration_sec  danceability  \\\n",
       "count   100.000000  100.000000    100.000000    100.000000    100.000000   \n",
       "mean   1970.500000    0.452690      0.556360    227.296770      0.536720   \n",
       "std      29.011492    0.161753      0.275376     25.630047      0.052402   \n",
       "min    1921.000000    0.208000      0.220000    156.882000      0.414000   \n",
       "25%    1945.750000    0.280750      0.289750    210.889500      0.500750   \n",
       "50%    1970.500000    0.496000      0.459000    235.521000      0.541000   \n",
       "75%    1995.250000    0.598250      0.856750    247.702500      0.571000   \n",
       "max    2020.000000    0.682000      0.963000    267.678000      0.693000   \n",
       "\n",
       "       energy_acousticness_ratio  energy_danceability_ratio  \n",
       "count                 100.000000                 100.000000  \n",
       "mean                    1.687463                   1.351276  \n",
       "std                     1.331987                   0.510477  \n",
       "min                     0.348653                   0.838710  \n",
       "25%                     0.486669                   0.943361  \n",
       "50%                     0.921735                   1.069778  \n",
       "75%                     3.134924                   1.769886  \n",
       "max                     4.514423                   2.843602  "
      ],
      "text/html": [
       "<div>\n",
       "<style scoped>\n",
       "    .dataframe tbody tr th:only-of-type {\n",
       "        vertical-align: middle;\n",
       "    }\n",
       "\n",
       "    .dataframe tbody tr th {\n",
       "        vertical-align: top;\n",
       "    }\n",
       "\n",
       "    .dataframe thead th {\n",
       "        text-align: right;\n",
       "    }\n",
       "</style>\n",
       "<table border=\"1\" class=\"dataframe\">\n",
       "  <thead>\n",
       "    <tr style=\"text-align: right;\">\n",
       "      <th></th>\n",
       "      <th>year</th>\n",
       "      <th>energy</th>\n",
       "      <th>acousticness</th>\n",
       "      <th>duration_sec</th>\n",
       "      <th>danceability</th>\n",
       "      <th>energy_acousticness_ratio</th>\n",
       "      <th>energy_danceability_ratio</th>\n",
       "    </tr>\n",
       "  </thead>\n",
       "  <tbody>\n",
       "    <tr>\n",
       "      <th>count</th>\n",
       "      <td>100.000000</td>\n",
       "      <td>100.000000</td>\n",
       "      <td>100.000000</td>\n",
       "      <td>100.000000</td>\n",
       "      <td>100.000000</td>\n",
       "      <td>100.000000</td>\n",
       "      <td>100.000000</td>\n",
       "    </tr>\n",
       "    <tr>\n",
       "      <th>mean</th>\n",
       "      <td>1970.500000</td>\n",
       "      <td>0.452690</td>\n",
       "      <td>0.556360</td>\n",
       "      <td>227.296770</td>\n",
       "      <td>0.536720</td>\n",
       "      <td>1.687463</td>\n",
       "      <td>1.351276</td>\n",
       "    </tr>\n",
       "    <tr>\n",
       "      <th>std</th>\n",
       "      <td>29.011492</td>\n",
       "      <td>0.161753</td>\n",
       "      <td>0.275376</td>\n",
       "      <td>25.630047</td>\n",
       "      <td>0.052402</td>\n",
       "      <td>1.331987</td>\n",
       "      <td>0.510477</td>\n",
       "    </tr>\n",
       "    <tr>\n",
       "      <th>min</th>\n",
       "      <td>1921.000000</td>\n",
       "      <td>0.208000</td>\n",
       "      <td>0.220000</td>\n",
       "      <td>156.882000</td>\n",
       "      <td>0.414000</td>\n",
       "      <td>0.348653</td>\n",
       "      <td>0.838710</td>\n",
       "    </tr>\n",
       "    <tr>\n",
       "      <th>25%</th>\n",
       "      <td>1945.750000</td>\n",
       "      <td>0.280750</td>\n",
       "      <td>0.289750</td>\n",
       "      <td>210.889500</td>\n",
       "      <td>0.500750</td>\n",
       "      <td>0.486669</td>\n",
       "      <td>0.943361</td>\n",
       "    </tr>\n",
       "    <tr>\n",
       "      <th>50%</th>\n",
       "      <td>1970.500000</td>\n",
       "      <td>0.496000</td>\n",
       "      <td>0.459000</td>\n",
       "      <td>235.521000</td>\n",
       "      <td>0.541000</td>\n",
       "      <td>0.921735</td>\n",
       "      <td>1.069778</td>\n",
       "    </tr>\n",
       "    <tr>\n",
       "      <th>75%</th>\n",
       "      <td>1995.250000</td>\n",
       "      <td>0.598250</td>\n",
       "      <td>0.856750</td>\n",
       "      <td>247.702500</td>\n",
       "      <td>0.571000</td>\n",
       "      <td>3.134924</td>\n",
       "      <td>1.769886</td>\n",
       "    </tr>\n",
       "    <tr>\n",
       "      <th>max</th>\n",
       "      <td>2020.000000</td>\n",
       "      <td>0.682000</td>\n",
       "      <td>0.963000</td>\n",
       "      <td>267.678000</td>\n",
       "      <td>0.693000</td>\n",
       "      <td>4.514423</td>\n",
       "      <td>2.843602</td>\n",
       "    </tr>\n",
       "  </tbody>\n",
       "</table>\n",
       "</div>"
      ]
     },
     "execution_count": 9,
     "metadata": {},
     "output_type": "execute_result"
    }
   ],
   "execution_count": 9
  },
  {
   "cell_type": "markdown",
   "metadata": {},
   "source": [
    "## 4. Data visualization\n",
    "\n",
    "### 5.1. Assigning constants to use later"
   ],
   "id": "b8056cb4c12b74e1"
  },
  {
   "cell_type": "code",
   "metadata": {
    "ExecuteTime": {
     "end_time": "2025-01-21T08:05:04.007951Z",
     "start_time": "2025-01-21T08:05:04.006006Z"
    }
   },
   "source": [
    "years = [1921, 1940, 1960, 1980, 2000, 2020]\n",
    "TICK_FONT = 20\n",
    "FONT = 20\n",
    "\n",
    "font = {'family' : 'helvetica',\n",
    "        'weight' : 'normal',\n",
    "        'size'   : FONT}"
   ],
   "id": "ee3ada3904a456da",
   "outputs": [],
   "execution_count": 10
  },
  {
   "cell_type": "markdown",
   "metadata": {},
   "source": [
    "### 5.2. Plots\n",
    "The first plot shows changes in average song acousticness, energy and danceability over the years."
   ],
   "id": "1f93da5230223b80"
  },
  {
   "cell_type": "code",
   "id": "87a08b54a783c747",
   "metadata": {
    "ExecuteTime": {
     "end_time": "2025-01-21T08:05:04.289751Z",
     "start_time": "2025-01-21T08:05:04.074008Z"
    }
   },
   "source": [
    "plt.figure(figsize=(15, 3))\n",
    "\n",
    "plt.xticks(years, fontsize=20)\n",
    "plt.yticks([0, 0.35, 0.70, 1], fontsize=20)\n",
    "\n",
    "plt.ylim(0, 1)\n",
    "plt.grid()\n",
    "\n",
    "plt.rc('font', **font)\n",
    "\n",
    "plt.plot(data['year'], data['acousticness'], label='acousticness', linewidth=3)\n",
    "plt.plot(data['year'], data['energy'], label='energy', linewidth=3)\n",
    "plt.plot(data['year'], data['danceability'], label='danceability', linewidth=3)\n",
    "\n",
    "\n",
    "plt.legend(bbox_to_anchor=(0.5, 1.3), loc='upper center', ncol=3, fontsize=20)\n",
    "\n",
    "plt.xlabel(\"Time [year]\", fontsize=20)\n",
    "plt.ylabel(\"Metric\", fontsize=20)\n",
    "\n",
    "plt.savefig(\"plots/acousticness-energy-danceability.pdf\", format=\"pdf\", bbox_inches=\"tight\")\n",
    "plt.show()"
   ],
   "outputs": [
    {
     "data": {
      "text/plain": [
       "<Figure size 1500x300 with 1 Axes>"
      ],
      "image/png": "[encoded data removed]"
     },
     "metadata": {},
     "output_type": "display_data"
    }
   ],
   "execution_count": 11
  },
  {
   "cell_type": "markdown",
   "metadata": {},
   "source": [
    "Second plot depicts ratio between mean song energy and acousticness over the last century"
   ],
   "id": "d5ef3a7ec634c4e7"
  },
  {
   "cell_type": "code",
   "metadata": {
    "ExecuteTime": {
     "end_time": "2025-01-21T08:05:04.391342Z",
     "start_time": "2025-01-21T08:05:04.309033Z"
    }
   },
   "source": [
    "plt.figure(figsize=(10, 4))\n",
    "\n",
    "plt.xticks(years, fontsize=TICK_FONT)\n",
    "plt.yticks([0, 1, 2, 3, 4, 5], fontsize=TICK_FONT)\n",
    "\n",
    "plt.ylim(0,5)\n",
    "plt.grid()\n",
    "\n",
    "plt.rc('font', **font)\n",
    "\n",
    "plt.plot(data['year'], data['energy_acousticness_ratio'], label='energy:acousticness ratio', linewidth=3)\n",
    "\n",
    "plt.ylabel('Ratio')\n",
    "plt.xlabel(\"Time [year]\")\n",
    "\n",
    "plt.savefig(\"plots/energy-acousticness.pdf\", format=\"pdf\", bbox_inches=\"tight\")\n",
    "plt.show()"
   ],
   "id": "f2ba6f0f5b724270",
   "outputs": [
    {
     "data": {
      "text/plain": [
       "<Figure size 1000x400 with 1 Axes>"
      ],
      "image/png": "[encoded data removed]"
     },
     "metadata": {},
     "output_type": "display_data"
    }
   ],
   "execution_count": 12
  },
  {
   "cell_type": "markdown",
   "metadata": {},
   "source": [
    "The next plot shows changes in mean song duration. Notice the noticeable decrease during the last 10 years"
   ],
   "id": "6e221ffe5ba43005"
  },
  {
   "cell_type": "code",
   "metadata": {
    "ExecuteTime": {
     "end_time": "2025-01-21T08:05:04.476202Z",
     "start_time": "2025-01-21T08:05:04.394707Z"
    }
   },
   "source": [
    "plt.figure(figsize=(10, 4))\n",
    "\n",
    "plt.xticks(years, fontsize=TICK_FONT)\n",
    "plt.yticks([0, 60, 120, 180, 240, 300], fontsize=TICK_FONT)\n",
    "\n",
    "plt.ylim(0,300)\n",
    "plt.grid()\n",
    "\n",
    "plt.rc('font', **font)\n",
    "\n",
    "plt.plot(data['year'], data['duration_sec'], label=\"duration\", linewidth=3)\n",
    "\n",
    "plt.xlabel(\"Time [year]\")\n",
    "plt.ylabel('Duration [s]')\n",
    "\n",
    "plt.savefig(\"plots/duration.pdf\", format=\"pdf\", bbox_inches=\"tight\")"
   ],
   "id": "33305d97050c9269",
   "outputs": [
    {
     "data": {
      "text/plain": [
       "<Figure size 1000x400 with 1 Axes>"
      ],
      "image/png": "[encoded data removed]"
     },
     "metadata": {},
     "output_type": "display_data"
    }
   ],
   "execution_count": 13
  },
  {
   "cell_type": "markdown",
   "metadata": {},
   "source": [
    "The final plot depicts the ratio of energy and danceability of songs throughout the years."
   ],
   "id": "cd0105e5a9c14d06"
  },
  {
   "cell_type": "code",
   "metadata": {
    "ExecuteTime": {
     "end_time": "2025-01-21T08:05:04.557599Z",
     "start_time": "2025-01-21T08:05:04.482038Z"
    }
   },
   "source": [
    "plt.figure(figsize=(10, 4))\n",
    "\n",
    "plt.xticks(years, fontsize=TICK_FONT)\n",
    "plt.yticks([0, 1, 2, 3, 4, 5], fontsize=TICK_FONT)\n",
    "\n",
    "plt.ylim(0,5)\n",
    "plt.grid()\n",
    "\n",
    "plt.rc('font', **font)\n",
    "\n",
    "plt.plot(data['year'], data['energy_danceability_ratio'], label='energy:danceability ratio', linewidth=3)\n",
    "\n",
    "plt.xlabel(\"Time [year]\")\n",
    "plt.ylabel('Ratio')\n",
    "\n",
    "plt.savefig(\"plots/energy-danceability.pdf\", format=\"pdf\", bbox_inches=\"tight\")"
   ],
   "id": "fc45994b90bbfbcc",
   "outputs": [
    {
     "data": {
      "text/plain": [
       "<Figure size 1000x400 with 1 Axes>"
      ],
      "image/png": "[encoded data removed]"
     },
     "metadata": {},
     "output_type": "display_data"
    }
   ],
   "execution_count": 14
  },
  {
   "metadata": {},
   "cell_type": "markdown",
   "source": "# 6. In-paper numbers",
   "id": "a13411c3777e708c"
  },
  {
   "metadata": {},
   "cell_type": "markdown",
   "source": "### 6.1 RQ1 (§V-A)",
   "id": "e4abb4d1694aa5cb"
  },
  {
   "metadata": {
    "ExecuteTime": {
     "end_time": "2025-01-21T08:05:04.565535Z",
     "start_time": "2025-01-21T08:05:04.562809Z"
    }
   },
   "cell_type": "code",
   "source": [
    "acousticness_1921 = data[data['year'] == 1921]['acousticness'].values[0]\n",
    "acousticness_2020 = data[data['year'] == 2020]['acousticness'].values[0]\n",
    "acousticness_decrease = (acousticness_1921 - acousticness_2020) / acousticness_1921 * 100\n",
    "\n",
    "print(\"The acousticness decreased by\", acousticness_decrease.round(3), \"% between 1921 and 2020\")"
   ],
   "id": "f162ae1aafbc4363",
   "outputs": [
    {
     "name": "stdout",
     "output_type": "stream",
     "text": [
      "The acousticness decreased by 75.197 % between 1921 and 2020\n"
     ]
    }
   ],
   "execution_count": 15
  },
  {
   "metadata": {
    "ExecuteTime": {
     "end_time": "2025-01-21T08:05:04.574234Z",
     "start_time": "2025-01-21T08:05:04.571400Z"
    }
   },
   "cell_type": "code",
   "source": [
    "energy_1921 = data[data['year'] == 1921]['energy'].values[0]\n",
    "energy_2020 = data[data['year'] == 2020]['energy'].values[0]\n",
    "energy_increase = (energy_2020 - energy_1921) / energy_1921 * 100\n",
    "\n",
    "print(\"The energy increased by\", energy_increase.round(3), \"% between 1921 and 2020\")"
   ],
   "id": "e1f0d92c7d42b825",
   "outputs": [
    {
     "name": "stdout",
     "output_type": "stream",
     "text": [
      "The energy increased by 171.983 % between 1921 and 2020\n"
     ]
    }
   ],
   "execution_count": 16
  },
  {
   "metadata": {
    "ExecuteTime": {
     "end_time": "2025-01-21T08:05:04.588181Z",
     "start_time": "2025-01-21T08:05:04.585650Z"
    }
   },
   "cell_type": "code",
   "source": [
    "peak_ratio = data['energy_acousticness_ratio'].max()\n",
    "peak_ratio_year = data[data['energy_acousticness_ratio'] == peak_ratio]['year'].values[0]\n",
    "\n",
    "print(\"The peak ratio between energy and acousticness is\", peak_ratio, \"in year\", peak_ratio_year)"
   ],
   "id": "9d65b95bc9c51f2c",
   "outputs": [
    {
     "name": "stdout",
     "output_type": "stream",
     "text": [
      "The peak ratio between energy and acousticness is 4.514423076923077 in year 1928\n"
     ]
    }
   ],
   "execution_count": 17
  },
  {
   "metadata": {
    "ExecuteTime": {
     "end_time": "2025-01-21T08:05:04.595388Z",
     "start_time": "2025-01-21T08:05:04.593359Z"
    }
   },
   "cell_type": "code",
   "source": [
    "lowest_ratio = data['energy_acousticness_ratio'].min()\n",
    "lowest_ratio_year = data[data['energy_acousticness_ratio'] == lowest_ratio]['year'].values[0]\n",
    "\n",
    "print(\"The lowest ratio between energy and acousticness is\", lowest_ratio, \"in year\", lowest_ratio_year)"
   ],
   "id": "7292eb9d7be14aa3",
   "outputs": [
    {
     "name": "stdout",
     "output_type": "stream",
     "text": [
      "The lowest ratio between energy and acousticness is 0.34865293185419965 in year 2020\n"
     ]
    }
   ],
   "execution_count": 18
  },
  {
   "metadata": {},
   "cell_type": "markdown",
   "source": "### 6.2 RQ2 (§V-B)",
   "id": "47e06357170de8a2"
  },
  {
   "metadata": {
    "ExecuteTime": {
     "end_time": "2025-01-21T08:05:04.609939Z",
     "start_time": "2025-01-21T08:05:04.607743Z"
    }
   },
   "cell_type": "code",
   "source": [
    "danceability_std = data['danceability'].std().round(2)\n",
    "danceability_mean = data['danceability'].mean().round(2)\n",
    "print(\"The standard deviation of danceability is\", danceability_std, \"against the mean of\", danceability_mean)"
   ],
   "id": "1bb1c20928926c4f",
   "outputs": [
    {
     "name": "stdout",
     "output_type": "stream",
     "text": [
      "The standard deviation of danceability is 0.05 against the mean of 0.54\n"
     ]
    }
   ],
   "execution_count": 19
  },
  {
   "metadata": {
    "ExecuteTime": {
     "end_time": "2025-01-21T08:05:04.628725Z",
     "start_time": "2025-01-21T08:05:04.625668Z"
    }
   },
   "cell_type": "code",
   "source": [
    "danceability_1921 = data[data['year'] == 1921]['danceability'].values[0]\n",
    "danceability_2020 = data[data['year'] == 2020]['danceability'].values[0]\n",
    "danceability_increase = (danceability_2020 - danceability_1921) / danceability_1921 * 100\n",
    "\n",
    "print(\"The danceability increased by\", danceability_increase.round(3), \"% between 1921 and 2020\")"
   ],
   "id": "3186896d722485a0",
   "outputs": [
    {
     "name": "stdout",
     "output_type": "stream",
     "text": [
      "The danceability increased by 65.394 % between 1921 and 2020\n"
     ]
    }
   ],
   "execution_count": 20
  },
  {
   "metadata": {},
   "cell_type": "markdown",
   "source": "### 6.3 RQ3 (§V-C)",
   "id": "b06ad1ce5e4c0d99"
  },
  {
   "metadata": {
    "ExecuteTime": {
     "end_time": "2025-01-21T08:05:04.640690Z",
     "start_time": "2025-01-21T08:05:04.637837Z"
    }
   },
   "cell_type": "code",
   "source": [
    "duration_std_1921_1970 = data[data['year'] < 1971]['duration_sec'].std().round(2)\n",
    "duration_mean_1921_1970 = data[data['year'] < 1971]['duration_sec'].mean().round(2)\n",
    "print(\"The standard deviation (1921-1970) is\", duration_std_1921_1970, \"against the mean of\", duration_mean_1921_1970)"
   ],
   "id": "4ca12bc9ac1de34b",
   "outputs": [
    {
     "name": "stdout",
     "output_type": "stream",
     "text": [
      "The standard deviation (1921-1970) is 24.28 against the mean of 211.3\n"
     ]
    }
   ],
   "execution_count": 21
  },
  {
   "metadata": {
    "ExecuteTime": {
     "end_time": "2025-01-21T08:05:04.658598Z",
     "start_time": "2025-01-21T08:05:04.655895Z"
    }
   },
   "cell_type": "code",
   "source": [
    "# standard deviation and mean of the duration between 1971 and 2020\n",
    "duration_std_1971_2020 = data[data['year'] > 1970]['duration_sec'].std().round(2)\n",
    "duration_mean_1971_2020 = data[data['year'] > 1970]['duration_sec'].mean().round(2)\n",
    "print(\"The standard deviation (1971-2020) is\", duration_std_1971_2020, \"against the mean of\", duration_mean_1971_2020)"
   ],
   "id": "2a7373eb93db7a5d",
   "outputs": [
    {
     "name": "stdout",
     "output_type": "stream",
     "text": [
      "The standard deviation (1971-2020) is 14.68 against the mean of 243.3\n"
     ]
    }
   ],
   "execution_count": 22
  },
  {
   "metadata": {
    "ExecuteTime": {
     "end_time": "2025-01-21T08:05:04.669307Z",
     "start_time": "2025-01-21T08:05:04.667315Z"
    }
   },
   "cell_type": "code",
   "source": [
    "# the increase in standard deviation of the duration between 1921-1970 and 1971-2020 (%age)\n",
    "duration_std_increase = abs((duration_std_1971_2020 - duration_std_1921_1970) / duration_std_1971_2020 * 100).round(1)\n",
    "print(\"The standard deviation (1921-1970) is\", duration_std_increase, \"% higher than the standard deviation (1971-2020)\")"
   ],
   "id": "df5ed5b2c23a23",
   "outputs": [
    {
     "name": "stdout",
     "output_type": "stream",
     "text": [
      "The standard deviation (1921-1970) is 65.4 % higher than the standard deviation (1971-2020)\n"
     ]
    }
   ],
   "execution_count": 23
  },
  {
   "metadata": {
    "ExecuteTime": {
     "end_time": "2025-01-21T08:05:04.680262Z",
     "start_time": "2025-01-21T08:05:04.677554Z"
    }
   },
   "cell_type": "code",
   "source": [
    "# duration decay over between 2010 and 2020 (%age)\n",
    "duration_2010 = data[data['year'] == 2010]['duration_sec'].values[0]\n",
    "duration_2020 = data[data['year'] == 2020]['duration_sec'].values[0]\n",
    "duration_decay = (duration_2010 - duration_2020) / duration_2010 * 100\n",
    "print(\"The duration decayed by\", duration_decay.round(3), \"% between 2010 and 2020\")"
   ],
   "id": "a15d3b4aa322d7e8",
   "outputs": [
    {
     "name": "stdout",
     "output_type": "stream",
     "text": [
      "The duration decayed by 20.215 % between 2010 and 2020\n"
     ]
    }
   ],
   "execution_count": 24
  }
 ],
 "metadata": {
  "kernelspec": {
   "display_name": ".venv",
   "language": "python",
   "name": "python3"
  },
  "language_info": {
   "codemirror_mode": {
    "name": "ipython",
    "version": 3
   },
   "file_extension": ".py",
   "mimetype": "text/x-python",
   "name": "python",
   "nbconvert_exporter": "python",
   "pygments_lexer": "ipython3",
   "version": "3.13.0"
  }
 },
 "nbformat": 4,
 "nbformat_minor": 5
}
